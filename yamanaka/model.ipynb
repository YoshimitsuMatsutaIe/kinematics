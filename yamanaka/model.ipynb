{
 "cells": [
  {
   "cell_type": "code",
   "execution_count": 12,
   "metadata": {},
   "outputs": [],
   "source": [
    "import sympy as sy\n",
    "from sympy import sin, cos, pi, sqrt\n",
    "import matplotlib.pyplot as plt"
   ]
  },
  {
   "cell_type": "code",
   "execution_count": 13,
   "metadata": {},
   "outputs": [],
   "source": [
    "def HTM(theta, a, d, alpha):\n",
    "    return sy.Matrix([\n",
    "        [cos(theta), -sin(theta), 0, a],\n",
    "        [sin(theta)*cos(alpha), cos(theta)*cos(alpha), -sin(alpha), -d*sin(alpha)],\n",
    "        [sin(theta)*sin(alpha), cos(theta)*sin(alpha), cos(alpha), d*cos(alpha)],\n",
    "        [0, 0, 0, 1],\n",
    "    ])\n",
    "\n",
    "l0, l1, l2, r9, r1, r2 = sy.symbols(\"l0, l1, l2, r9, r1, r2\")\n",
    "q = sy.Matrix(sy.MatrixSymbol('q', 3, 1))\n",
    "dq = sy.Matrix(sy.MatrixSymbol('dq', 3, 1))\n",
    "\n",
    "\n",
    "T0 = HTM(0, 0, 0, 0)\n",
    "T1 = HTM(q[0,0]+pi/2, 0, l0, 0)\n",
    "T2 = HTM(q[1,0], 0, 0, -pi/2)\n",
    "T3 = HTM(q[2,0], l1, 0, 0)\n",
    "T4 = HTM(0, l2, 0, 0)\n",
    "\n",
    "Ts = [T0, T1, T2, T3, T4]\n",
    "T_abs = [T0]\n",
    "for T in Ts[1:]:\n",
    "    T_abs.append(T_abs[-1] * T)\n"
   ]
  },
  {
   "cell_type": "code",
   "execution_count": 14,
   "metadata": {},
   "outputs": [
    {
     "data": {
      "text/latex": [
       "$\\displaystyle \\left[\\begin{matrix}0\\\\0\\\\0\\end{matrix}\\right]$"
      ],
      "text/plain": [
       "Matrix([\n",
       "[0],\n",
       "[0],\n",
       "[0]])"
      ]
     },
     "execution_count": 14,
     "metadata": {},
     "output_type": "execute_result"
    }
   ],
   "source": [
    "T_abs[0][:3, 3]"
   ]
  },
  {
   "cell_type": "code",
   "execution_count": 15,
   "metadata": {},
   "outputs": [
    {
     "data": {
      "text/latex": [
       "$\\displaystyle \\left[\\begin{matrix}0\\\\0\\\\l_{0}\\end{matrix}\\right]$"
      ],
      "text/plain": [
       "Matrix([\n",
       "[ 0],\n",
       "[ 0],\n",
       "[l0]])"
      ]
     },
     "execution_count": 15,
     "metadata": {},
     "output_type": "execute_result"
    }
   ],
   "source": [
    "T_abs[1][:3, 3]"
   ]
  },
  {
   "cell_type": "code",
   "execution_count": 16,
   "metadata": {},
   "outputs": [
    {
     "data": {
      "text/latex": [
       "$\\displaystyle \\left[\\begin{matrix}0\\\\0\\\\l_{0}\\end{matrix}\\right]$"
      ],
      "text/plain": [
       "Matrix([\n",
       "[ 0],\n",
       "[ 0],\n",
       "[l0]])"
      ]
     },
     "execution_count": 16,
     "metadata": {},
     "output_type": "execute_result"
    }
   ],
   "source": [
    "T_abs[2][:3, 3]"
   ]
  },
  {
   "cell_type": "code",
   "execution_count": 17,
   "metadata": {},
   "outputs": [
    {
     "data": {
      "text/latex": [
       "$\\displaystyle \\left[\\begin{matrix}- l_{1} \\sin{\\left(q_{0, 0} \\right)} \\cos{\\left(q_{1, 0} \\right)}\\\\l_{1} \\cos{\\left(q_{0, 0} \\right)} \\cos{\\left(q_{1, 0} \\right)}\\\\l_{0} - l_{1} \\sin{\\left(q_{1, 0} \\right)}\\end{matrix}\\right]$"
      ],
      "text/plain": [
       "Matrix([\n",
       "[-l1*sin(q[0, 0])*cos(q[1, 0])],\n",
       "[ l1*cos(q[0, 0])*cos(q[1, 0])],\n",
       "[         l0 - l1*sin(q[1, 0])]])"
      ]
     },
     "execution_count": 17,
     "metadata": {},
     "output_type": "execute_result"
    }
   ],
   "source": [
    "T_abs[3][:3, 3]"
   ]
  },
  {
   "cell_type": "code",
   "execution_count": 18,
   "metadata": {},
   "outputs": [
    {
     "data": {
      "text/latex": [
       "$\\displaystyle \\left[\\begin{matrix}- l_{1} \\sin{\\left(q_{0, 0} \\right)} \\cos{\\left(q_{1, 0} \\right)} + l_{2} \\left(\\sin{\\left(q_{0, 0} \\right)} \\sin{\\left(q_{1, 0} \\right)} \\sin{\\left(q_{2, 0} \\right)} - \\sin{\\left(q_{0, 0} \\right)} \\cos{\\left(q_{1, 0} \\right)} \\cos{\\left(q_{2, 0} \\right)}\\right)\\\\l_{1} \\cos{\\left(q_{0, 0} \\right)} \\cos{\\left(q_{1, 0} \\right)} + l_{2} \\left(- \\sin{\\left(q_{1, 0} \\right)} \\sin{\\left(q_{2, 0} \\right)} \\cos{\\left(q_{0, 0} \\right)} + \\cos{\\left(q_{0, 0} \\right)} \\cos{\\left(q_{1, 0} \\right)} \\cos{\\left(q_{2, 0} \\right)}\\right)\\\\l_{0} - l_{1} \\sin{\\left(q_{1, 0} \\right)} + l_{2} \\left(- \\sin{\\left(q_{1, 0} \\right)} \\cos{\\left(q_{2, 0} \\right)} - \\sin{\\left(q_{2, 0} \\right)} \\cos{\\left(q_{1, 0} \\right)}\\right)\\end{matrix}\\right]$"
      ],
      "text/plain": [
       "Matrix([\n",
       "[-l1*sin(q[0, 0])*cos(q[1, 0]) + l2*(sin(q[0, 0])*sin(q[1, 0])*sin(q[2, 0]) - sin(q[0, 0])*cos(q[1, 0])*cos(q[2, 0]))],\n",
       "[l1*cos(q[0, 0])*cos(q[1, 0]) + l2*(-sin(q[1, 0])*sin(q[2, 0])*cos(q[0, 0]) + cos(q[0, 0])*cos(q[1, 0])*cos(q[2, 0]))],\n",
       "[                                  l0 - l1*sin(q[1, 0]) + l2*(-sin(q[1, 0])*cos(q[2, 0]) - sin(q[2, 0])*cos(q[1, 0]))]])"
      ]
     },
     "execution_count": 18,
     "metadata": {},
     "output_type": "execute_result"
    }
   ],
   "source": [
    "T_abs[4][:3, 3]"
   ]
  },
  {
   "cell_type": "code",
   "execution_count": 19,
   "metadata": {},
   "outputs": [
    {
     "data": {
      "text/latex": [
       "$\\displaystyle \\left[\\begin{matrix}\\left(- l_{1} \\cos{\\left(q_{1, 0} \\right)} - l_{2} \\cos{\\left(q_{1, 0} + q_{2, 0} \\right)}\\right) \\sin{\\left(q_{0, 0} \\right)}\\\\\\left(l_{1} \\cos{\\left(q_{1, 0} \\right)} + l_{2} \\cos{\\left(q_{1, 0} + q_{2, 0} \\right)}\\right) \\cos{\\left(q_{0, 0} \\right)}\\\\l_{0} - l_{1} \\sin{\\left(q_{1, 0} \\right)} - l_{2} \\sin{\\left(q_{1, 0} + q_{2, 0} \\right)}\\end{matrix}\\right]$"
      ],
      "text/plain": [
       "Matrix([\n",
       "[(-l1*cos(q[1, 0]) - l2*cos(q[1, 0] + q[2, 0]))*sin(q[0, 0])],\n",
       "[ (l1*cos(q[1, 0]) + l2*cos(q[1, 0] + q[2, 0]))*cos(q[0, 0])],\n",
       "[           l0 - l1*sin(q[1, 0]) - l2*sin(q[1, 0] + q[2, 0])]])"
      ]
     },
     "execution_count": 19,
     "metadata": {},
     "output_type": "execute_result"
    }
   ],
   "source": [
    "ee = sy.Matrix([[l2, 0, 0, 1]]).T\n",
    "ee_ = (T_abs[3] * ee)[:3, :]\n",
    "sy.simplify(ee_)"
   ]
  },
  {
   "cell_type": "code",
   "execution_count": 20,
   "metadata": {},
   "outputs": [
    {
     "data": {
      "text/latex": [
       "$\\displaystyle \\left[\\begin{matrix}- \\left(l_{1} \\cos{\\left(q_{1, 0} \\right)} + l_{2} \\cos{\\left(q_{1, 0} + q_{2, 0} \\right)}\\right) \\sin{\\left(q_{0, 0} \\right)}\\\\\\left(l_{1} \\cos{\\left(q_{1, 0} \\right)} + l_{2} \\cos{\\left(q_{1, 0} + q_{2, 0} \\right)}\\right) \\cos{\\left(q_{0, 0} \\right)}\\\\l_{0} - l_{1} \\sin{\\left(q_{1, 0} \\right)} - l_{2} \\sin{\\left(q_{1, 0} + q_{2, 0} \\right)}\\end{matrix}\\right]$"
      ],
      "text/plain": [
       "Matrix([\n",
       "[-(l1*cos(q[1, 0]) + l2*cos(q[1, 0] + q[2, 0]))*sin(q[0, 0])],\n",
       "[ (l1*cos(q[1, 0]) + l2*cos(q[1, 0] + q[2, 0]))*cos(q[0, 0])],\n",
       "[           l0 - l1*sin(q[1, 0]) - l2*sin(q[1, 0] + q[2, 0])]])"
      ]
     },
     "execution_count": 20,
     "metadata": {},
     "output_type": "execute_result"
    }
   ],
   "source": [
    "ori = sy.Matrix([\n",
    "    [-sin(q[0,0])*(l1*cos(q[1,0]) + l2*cos(q[1,0] + q[2,0]))],\n",
    "    [cos(q[0,0])*(l1*cos(q[1,0]) + l2*cos(q[1,0] + q[2,0]))],\n",
    "    [l0 - l1*sin(q[1,0]) - l2*sin(q[1,0] + q[2,0])]\n",
    "])\n",
    "ori"
   ]
  },
  {
   "cell_type": "code",
   "execution_count": 21,
   "metadata": {},
   "outputs": [
    {
     "data": {
      "text/latex": [
       "$\\displaystyle \\left[\\begin{matrix}0\\\\0\\\\0\\end{matrix}\\right]$"
      ],
      "text/plain": [
       "Matrix([\n",
       "[0],\n",
       "[0],\n",
       "[0]])"
      ]
     },
     "execution_count": 21,
     "metadata": {},
     "output_type": "execute_result"
    }
   ],
   "source": [
    "sy.simplify(ori - T_abs[4][:3, 3])"
   ]
  },
  {
   "cell_type": "code",
   "execution_count": 22,
   "metadata": {},
   "outputs": [],
   "source": [
    "\n",
    "os = [T[0:3, 3:4] for T in T_abs]\n",
    "Rxs = [T[0:3, 0:1] for T in T_abs]\n",
    "Rys = [T[0:3, 1:2] for T in T_abs]\n",
    "Rzs = [T[0:3, 2:3] for T in T_abs]\n",
    "\n",
    "Jos = [o.jacobian(q) for o in os]\n",
    "JRxs = [r.jacobian(q) for r in Rxs]\n",
    "JRys = [r.jacobian(q) for r in Rys]\n",
    "JRzs = [r.jacobian(q) for r in Rzs]\n",
    "\n",
    "t = sy.Symbol(\"t\")\n",
    "q1 = sy.Function(\"q1\")\n",
    "q2 = sy.Function(\"q2\")\n",
    "q3 = sy.Function(\"q3\")\n",
    "\n",
    "\n",
    "T_abs_ = []\n",
    "for T in T_abs:\n",
    "    T_ = T.subs([\n",
    "        (q[0,0], q1(t)),\n",
    "        (q[1,0], q2(t)),\n",
    "        (q[2,0], q3(t)),\n",
    "    ])\n",
    "    T_abs_.append(T_)\n",
    "\n",
    "\n",
    "os_ = [T[0:3, 3:4] for T in T_abs_]\n",
    "Rxs_ = [T[0:3, 0:1] for T in T_abs_]\n",
    "Rys_ = [T[0:3, 1:2] for T in T_abs_]\n",
    "Rzs_ = [T[0:3, 2:3] for T in T_abs_]\n",
    "\n",
    "q_ = sy.Matrix([\n",
    "    [q1(t)],\n",
    "    [q2(t)],\n",
    "    [q3(t)],\n",
    "])\n",
    "Jos_ = [o.jacobian(q_) for o in os_]\n",
    "JRxs_ = [r.jacobian(q_) for r in Rxs_]\n",
    "JRys_ = [r.jacobian(q_) for r in Rys_]\n",
    "JRzs_ = [r.jacobian(q_) for r in Rzs_]\n",
    "\n",
    "Jos_dot_ = [sy.diff(J, t) for J in Jos_]\n",
    "JRxs_dot_ = [sy.diff(J, t) for J in JRxs_]\n",
    "JRys_dot_ = [sy.diff(J, t) for J in JRys_]\n",
    "JRzs_dot_ = [sy.diff(J, t) for J in JRzs_]\n",
    "\n",
    "\n",
    "Jos_dot = []\n",
    "JRxs_dot = []\n",
    "JRys_dot = []\n",
    "JRzs_dot = []\n",
    "for Js, newJs in zip((Jos_dot_, JRxs_dot_, JRys_dot_, JRzs_dot_), (Jos_dot, JRxs_dot, JRys_dot, JRzs_dot)):\n",
    "    for J in Js:\n",
    "        newJs.append(J.subs([\n",
    "        (sy.Derivative(q1(t),t), dq[0, 0]),\n",
    "        (sy.Derivative(q2(t),t), dq[1, 0]),\n",
    "        (sy.Derivative(q3(t),t), dq[2, 0]),\n",
    "        (q1(t), q[0, 0]),\n",
    "        (q2(t), q[1, 0]),\n",
    "        (q3(t), q[2, 0]),\n",
    "    ]))\n",
    "\n",
    "\n",
    "os = [sy.expand(e) for e in os]\n",
    "Rxs = [sy.expand(e) for e in Rxs]\n",
    "Rys = [sy.expand(e) for e in Rys]\n",
    "Rzs = [sy.expand(e) for e in Rzs]\n",
    "Jos = [sy.expand(e) for e in Jos]\n",
    "JRxs = [sy.expand(e) for e in JRxs]\n",
    "JRys = [sy.expand(e) for e in JRys]\n",
    "JRzs = [sy.expand(e) for e in JRzs]\n",
    "Jos_dot = [sy.expand(e) for e in Jos_dot]\n",
    "JRxs_dot = [sy.expand(e) for e in JRxs_dot]\n",
    "JRys_dot = [sy.expand(e) for e in JRys_dot]\n",
    "JRzs_dot = [sy.expand(e) for e in JRzs_dot]\n",
    "\n",
    "expr_all = [os, Rxs, Rys, Rzs, Jos, JRxs, JRys, JRzs, Jos_dot, JRxs_dot, JRys_dot, JRzs_dot]\n",
    "names = [str(i) for i in range(5)]\n",
    "expr_name = [\n",
    "    [\"o_\" + n for n in names],\n",
    "    [\"rx_\" + n for n in names],\n",
    "    [\"ry_\" + n for n in names],\n",
    "    [\"rz_\" + n for n in names],\n",
    "    [\"jo_\" + n for n in names],\n",
    "    [\"jrx_\" + n for n in names],\n",
    "    [\"jry_\" + n for n in names],\n",
    "    [\"jrz_\" + n for n in names],\n",
    "    [\"jo_\" + n + \"_dot\" for n in names],\n",
    "    [\"jrx_\" + n + \"_dot\" for n in names],\n",
    "    [\"jry_\" + n + \"_dot\" for n in names],\n",
    "    [\"jrz_\" + n + \"_dot\" for n in names],\n",
    "]"
   ]
  },
  {
   "cell_type": "markdown",
   "metadata": {},
   "source": [
    "***"
   ]
  },
  {
   "cell_type": "code",
   "execution_count": 23,
   "metadata": {},
   "outputs": [
    {
     "data": {
      "text/latex": [
       "$\\displaystyle \\left[\\begin{array}{ccc}Iy_{2} \\sin^{2}{\\left(q_{1, 0} \\right)} + Iy_{3} \\sin^{2}{\\left(q_{1, 0} + q_{2, 0} \\right)} + Iz_{1} + Iz_{2} \\cos^{2}{\\left(q_{1, 0} \\right)} + Iz_{3} \\cos^{2}{\\left(q_{1, 0} + q_{2, 0} \\right)} + m_{2} r_{1}^{2} \\cos^{2}{\\left(q_{1, 0} \\right)} + m_{3} \\left(l_{1} \\cos{\\left(q_{1, 0} \\right)} + r_{2} \\cos{\\left(q_{1, 0} + q_{2, 0} \\right)}\\right)^{2} & 0 & 0\\\\0 & Ix_{2} + Ix_{3} + l_{1}^{2} m_{3} + 2 l_{1} m_{3} r_{2} \\cos{\\left(q_{2, 0} \\right)} + m_{2} r_{1}^{2} + m_{3} r_{2}^{2} & Ix_{3} + l_{1} m_{3} r_{2} + m_{3} r_{2}^{2} + \\cos{\\left(q_{2, 0} \\right)}\\\\0 & Ix_{3} + l_{1} m_{3} r_{2} \\cos{\\left(q_{2, 0} \\right)} + m_{3} r_{2}^{2} & Ix_{3} + m_{3} r_{2}^{2}\\end{array}\\right]$"
      ],
      "text/plain": [
       "Matrix([\n",
       "[Iy2*sin(q[1, 0])**2 + Iy3*sin(q[1, 0] + q[2, 0])**2 + Iz1 + Iz2*cos(q[1, 0])**2 + Iz3*cos(q[1, 0] + q[2, 0])**2 + m2*r1**2*cos(q[1, 0])**2 + m3*(l1*cos(q[1, 0]) + r2*cos(q[1, 0] + q[2, 0]))**2,                                                                    0,                                        0],\n",
       "[                                                                                                                                                                                               0, Ix2 + Ix3 + l1**2*m3 + 2*l1*m3*r2*cos(q[2, 0]) + m2*r1**2 + m3*r2**2, Ix3 + l1*m3*r2 + m3*r2**2 + cos(q[2, 0])],\n",
       "[                                                                                                                                                                                               0,                               Ix3 + l1*m3*r2*cos(q[2, 0]) + m3*r2**2,                           Ix3 + m3*r2**2]])"
      ]
     },
     "execution_count": 23,
     "metadata": {},
     "output_type": "execute_result"
    }
   ],
   "source": [
    "Ix1, Ix2, Ix3, Iy1, Iy2, Iy3, Iz1, Iz2, Iz3 = sy.symbols(\"Ix1, Ix2, Ix3, Iy1, Iy2, Iy3, Iz1, Iz2, Iz3\")\n",
    "m1, m2, m3 = sy.symbols(\"m1, m2, m3\")\n",
    "M = sy.Matrix(sy.MatrixSymbol('M', 3, 3))\n",
    "th1 = q[0,0]\n",
    "th2 = q[1,0]\n",
    "th3 = q[2,0]\n",
    "\n",
    "M[0,0] = Iy2*sin(th2)**2 + Iy3*sin(th2+th3)**2 + Iz1 + Iz2*cos(th2)**2 \\\n",
    "    + Iz3*cos(th2+th3)**2 + m2*r1**2*cos(th2)**2 \\\n",
    "        + m3*(l1*cos(th2) + r2*cos(th2+th3))**2\n",
    "M[0,1] = 0\n",
    "M[0,2] = 0\n",
    "\n",
    "M[1,0] = 0\n",
    "M[1,1] = Ix2 + Ix3 + m3*l1**2 + m2*r1**2 + m3*r2**2 + 2*m3*l1*r2*cos(th3)\n",
    "M[1,2] = Ix3 + m3*r2**2 + m3*l1*r2+cos(th3)\n",
    "\n",
    "M[2,0] = 0\n",
    "M[2,1] = Ix3 + m3*r2**2 + m3*l1*r2*cos(th3)\n",
    "M[2,2] = Ix3 + m3*r2**2\n",
    "\n",
    "M"
   ]
  },
  {
   "cell_type": "code",
   "execution_count": 24,
   "metadata": {},
   "outputs": [
    {
     "data": {
      "text/latex": [
       "$\\displaystyle \\left[\\begin{array}{c}0\\\\- g m_{3} r_{2} \\cos{\\left(q_{1, 0} + q_{2, 0} \\right)} + \\left(- g l_{1} m_{3} - g m_{2} r_{1}\\right) \\cos{\\left(q_{1, 0} \\right)}\\\\- g m_{3} r_{2} \\cos{\\left(q_{1, 0} + q_{2, 0} \\right)}\\end{array}\\right]$"
      ],
      "text/plain": [
       "Matrix([\n",
       "[                                                                  0],\n",
       "[-g*m3*r2*cos(q[1, 0] + q[2, 0]) + (-g*l1*m3 - g*m2*r1)*cos(q[1, 0])],\n",
       "[                                    -g*m3*r2*cos(q[1, 0] + q[2, 0])]])"
      ]
     },
     "execution_count": 24,
     "metadata": {},
     "output_type": "execute_result"
    }
   ],
   "source": [
    "g = sy.Symbol(\"g\")\n",
    "G = sy.Matrix(sy.MatrixSymbol('M', 3, 1))\n",
    "\n",
    "G[0,0] = 0\n",
    "G[1,0] = -(m2*g*r1 + m3*g*l1)*cos(th2) - m3*g*r2*cos(th2+th3)\n",
    "G[2,0] = -m3*g*r2*cos(th2+th3)\n",
    "\n",
    "G"
   ]
  },
  {
   "cell_type": "code",
   "execution_count": 25,
   "metadata": {},
   "outputs": [
    {
     "data": {
      "text/latex": [
       "$\\displaystyle \\left[\\begin{array}{ccc}\\left(- m_{3} r_{2} \\left(l_{1} \\cos{\\left(q_{1, 0} \\right)} + r_{2} + \\cos{\\left(q_{1, 0} + q_{2, 0} \\right)}\\right) \\sin{\\left(q_{1, 0} + q_{2, 0} \\right)} + \\left(Iy_{3} - Iz_{3}\\right) \\sin{\\left(q_{1, 0} + q_{2, 0} \\right)} \\cos{\\left(q_{1, 0} + q_{2, 0} \\right)}\\right) dq_{2, 0} + \\left(- m_{3} \\left(l_{1} \\sin{\\left(q_{1, 0} \\right)} + r_{2} \\sin{\\left(q_{1, 0} + q_{2, 0} \\right)}\\right) \\left(l_{1} \\cos{\\left(q_{1, 0} \\right)} + r_{2} \\cos{\\left(q_{1, 0} + q_{2, 0} \\right)}\\right) + \\left(Iy_{3} - Iz_{3}\\right) \\sin{\\left(q_{1, 0} + q_{2, 0} \\right)} \\cos{\\left(q_{1, 0} + q_{2, 0} \\right)} + \\left(Iy_{2} - Iz_{2} - m_{2} r_{1}^{2}\\right) \\sin{\\left(q_{1, 0} \\right)} \\cos{\\left(q_{1, 0} \\right)}\\right) dq_{1, 0} & \\left(- m_{3} \\left(l_{1} \\sin{\\left(q_{1, 0} \\right)} + r_{2} \\sin{\\left(q_{1, 0} + q_{2, 0} \\right)}\\right) \\left(l_{1} \\cos{\\left(q_{1, 0} \\right)} + r_{2} \\cos{\\left(q_{1, 0} + q_{2, 0} \\right)}\\right) + \\left(Iy_{3} - Iz_{3}\\right) \\sin{\\left(q_{1, 0} + q_{2, 0} \\right)} \\cos{\\left(q_{1, 0} + q_{2, 0} \\right)} + \\left(Iy_{2} - Iz_{2} - m_{2} r_{1}^{2}\\right) \\sin{\\left(q_{1, 0} \\right)} \\cos{\\left(q_{1, 0} \\right)}\\right) dq_{0, 0} & \\left(- m_{3} r_{2} \\left(l_{1} \\cos{\\left(q_{1, 0} \\right)} + r_{2} + \\cos{\\left(q_{1, 0} + q_{2, 0} \\right)}\\right) \\sin{\\left(q_{1, 0} + q_{2, 0} \\right)} + \\left(Iy_{3} - Iz_{3}\\right) \\sin{\\left(q_{1, 0} + q_{2, 0} \\right)} \\cos{\\left(q_{1, 0} + q_{2, 0} \\right)}\\right) dq_{0, 0}\\\\\\left(m_{3} \\left(l_{1} \\cos{\\left(q_{1, 0} \\right)} + r_{2} \\cos{\\left(q_{1, 0} + q_{2, 0} \\right)}\\right) \\left(l_{1} \\sin{\\left(q_{1, 0} \\right)} + r_{2} + \\sin{\\left(q_{1, 0} + q_{2, 0} \\right)}\\right) - \\left(Iy_{3} - Iz_{3}\\right) \\sin{\\left(q_{1, 0} + q_{2, 0} \\right)} \\cos{\\left(q_{1, 0} + q_{2, 0} \\right)} + \\left(- Iy_{2} + Iz_{2} + m_{2} r_{1}^{2}\\right) \\sin{\\left(q_{1, 0} \\right)} \\cos{\\left(q_{1, 0} \\right)}\\right) dq_{0, 0} & - l_{1} m_{3} r_{2} \\sin{\\left(q_{2, 0} \\right)} dq_{2, 0} & - l_{1} m_{3} r_{2} \\sin{\\left(q_{2, 0} \\right)} dq_{1, 0} - l_{1} m_{3} r_{2} \\sin{\\left(q_{2, 0} \\right)} dq_{2, 0}\\\\\\left(m_{3} r_{2} \\left(l_{1} \\cos{\\left(q_{1, 0} \\right)} + r_{2} \\cos{\\left(q_{1, 0} + q_{2, 0} \\right)}\\right) \\sin{\\left(q_{1, 0} + q_{2, 0} \\right)} + \\left(- Iy_{3} + Iz_{3}\\right) \\sin{\\left(q_{1, 0} + q_{2, 0} \\right)} \\cos{\\left(q_{1, 0} + q_{2, 0} \\right)}\\right) dq_{0, 0} & l_{1} m_{3} r_{2} \\sin{\\left(q_{2, 0} \\right)} dq_{1, 0} & 0\\end{array}\\right]$"
      ],
      "text/plain": [
       "Matrix([\n",
       "[(-m3*r2*(l1*cos(q[1, 0]) + r2 + cos(q[1, 0] + q[2, 0]))*sin(q[1, 0] + q[2, 0]) + (Iy3 - Iz3)*sin(q[1, 0] + q[2, 0])*cos(q[1, 0] + q[2, 0]))*dq[2, 0] + (-m3*(l1*sin(q[1, 0]) + r2*sin(q[1, 0] + q[2, 0]))*(l1*cos(q[1, 0]) + r2*cos(q[1, 0] + q[2, 0])) + (Iy3 - Iz3)*sin(q[1, 0] + q[2, 0])*cos(q[1, 0] + q[2, 0]) + (Iy2 - Iz2 - m2*r1**2)*sin(q[1, 0])*cos(q[1, 0]))*dq[1, 0], (-m3*(l1*sin(q[1, 0]) + r2*sin(q[1, 0] + q[2, 0]))*(l1*cos(q[1, 0]) + r2*cos(q[1, 0] + q[2, 0])) + (Iy3 - Iz3)*sin(q[1, 0] + q[2, 0])*cos(q[1, 0] + q[2, 0]) + (Iy2 - Iz2 - m2*r1**2)*sin(q[1, 0])*cos(q[1, 0]))*dq[0, 0], (-m3*r2*(l1*cos(q[1, 0]) + r2 + cos(q[1, 0] + q[2, 0]))*sin(q[1, 0] + q[2, 0]) + (Iy3 - Iz3)*sin(q[1, 0] + q[2, 0])*cos(q[1, 0] + q[2, 0]))*dq[0, 0]],\n",
       "[                                                                                                                                                     (m3*(l1*cos(q[1, 0]) + r2*cos(q[1, 0] + q[2, 0]))*(l1*sin(q[1, 0]) + r2 + sin(q[1, 0] + q[2, 0])) - (Iy3 - Iz3)*sin(q[1, 0] + q[2, 0])*cos(q[1, 0] + q[2, 0]) + (-Iy2 + Iz2 + m2*r1**2)*sin(q[1, 0])*cos(q[1, 0]))*dq[0, 0],                                                                                                                                                                                           -l1*m3*r2*sin(q[2, 0])*dq[2, 0],                                                                                     -l1*m3*r2*sin(q[2, 0])*dq[1, 0] - l1*m3*r2*sin(q[2, 0])*dq[2, 0]],\n",
       "[                                                                                                                                                                                                                              (m3*r2*(l1*cos(q[1, 0]) + r2*cos(q[1, 0] + q[2, 0]))*sin(q[1, 0] + q[2, 0]) + (-Iy3 + Iz3)*sin(q[1, 0] + q[2, 0])*cos(q[1, 0] + q[2, 0]))*dq[0, 0],                                                                                                                                                                                            l1*m3*r2*sin(q[2, 0])*dq[1, 0],                                                                                                                                                    0]])"
      ]
     },
     "execution_count": 25,
     "metadata": {},
     "output_type": "execute_result"
    }
   ],
   "source": [
    "Gamma = [\n",
    "    [\n",
    "        [0, 0, 0],\n",
    "        [0, 0, 0],\n",
    "        [0, 0, 0],\n",
    "    ],\n",
    "    [\n",
    "        [0, 0, 0],\n",
    "        [0, 0, 0],\n",
    "        [0, 0, 0],\n",
    "    ],\n",
    "    [\n",
    "        [0, 0, 0],\n",
    "        [0, 0, 0],\n",
    "        [0, 0, 0],\n",
    "    ],\n",
    "]\n",
    "\n",
    "Gamma[0][0][1] = (Iy2 - Iz2 - m2*r1**2)*cos(th2)*sin(th2) \\\n",
    "    + (Iy3 - Iz3)*cos(th2+th3)*sin(th2+th3)\\\n",
    "        -m3*(l1*cos(th2) + r2*cos(th2+th3))*(l1*sin(th2) + r2*sin(th2+th3))\n",
    "\n",
    "Gamma[0][0][2] = (Iy3 - Iz3)*cos(th2+th3)*sin(th2+th3) \\\n",
    "    -m3*r2*(l1*cos(th2) + r2+cos(th2+th3))*sin(th2+th3)\n",
    "\n",
    "Gamma[0][1][0] = (Iy2 - Iz2 - m2*r1**2)*cos(th2)*sin(th2) \\\n",
    "    + (Iy3 - Iz3)*cos(th2+th3)*sin(th2+th3) \\\n",
    "        -m3*(l1*cos(th2) + r2*cos(th2+th3)) * (l1*sin(th2) + r2*sin(th2+th3))\n",
    "\n",
    "Gamma[0][2][0] = (Iy3 - Iz3)*cos(th2+th3)*sin(th2+th3) \\\n",
    "    - m3*r2*(l1*cos(th2) + r2+cos(th2+th3)) * sin(th2+th3)\n",
    "\n",
    "Gamma[1][0][0] = -(Iy2 - Iz2 - m2*r1**2)*cos(th2)*sin(th2) \\\n",
    "    - (Iy3 - Iz3)*cos(th2+th3)*sin(th2+th3) \\\n",
    "        + m3*(l1*cos(th2) + r2*cos(th2+th3)) * (l1*sin(th2) + r2+sin(th2+th3))\n",
    "\n",
    "Gamma[1][1][2] = -l1*m3*r2*sin(th3)\n",
    "Gamma[1][2][1] = Gamma[1][1][2]\n",
    "Gamma[1][2][2] = Gamma[1][1][2]\n",
    "\n",
    "Gamma[2][0][0] = -(Iy3 - Iz3)*cos(th2+th3)*sin(th2+th3) \\\n",
    "    + m3*r2*(l1*cos(th2) + r2*cos(th2+th3)) * sin(th2+th3)\n",
    "\n",
    "Gamma[2][1][1] = l1*m3*r2*sin(th3)\n",
    "\n",
    "\n",
    "C = sy.Matrix(sy.MatrixSymbol(\"C\", 3, 3))\n",
    "for i in range(3):\n",
    "    for j in range(3):\n",
    "        tmp = 0\n",
    "        for k in range(3):\n",
    "            tmp += Gamma[i][j][k] * dq[k]\n",
    "        C[i, j] = tmp\n",
    "\n",
    "C"
   ]
  },
  {
   "cell_type": "code",
   "execution_count": 26,
   "metadata": {},
   "outputs": [],
   "source": [
    "from sympy.printing.numpy import NumPyPrinter\n",
    "\n",
    "names = [str(i) for i in range(5)]\n",
    "\n",
    "common_w = \"import numpy as np\\nfrom math import cos as c\\nfrom math import sin as s\\nfrom math import tan as ta\\nfrom math import sqrt as sq\\n\"\n",
    "\n",
    "#numba_word_q = \"@njit(\\\"f8[:, :](f8[:, :])\\\")\\n\"\n",
    "#numba_word_q_dq = \"@njit(\\\"f8[:, :](f8[:, :], f8[:, :])\\\")\\n\"\n",
    "\n",
    "with open(\"src_py_/htm.py\", \"w\") as f:\n",
    "    f.write(common_w)\n",
    "    for name, z in zip(names, os):\n",
    "        numpy_word = \"def o_\" + name + \"(q):\\n    return \"\n",
    "        #f.write(numba_word_q)\n",
    "        f.write(numpy_word)\n",
    "        f.write(NumPyPrinter().doprint(z))\n",
    "        f.write(\"\\n\")\n",
    "\n",
    "    for name, z in zip(names, Rxs):\n",
    "        numpy_word = \"def rx_\" + name + \"(q):\\n    return \"\n",
    "        #f.write(numba_word_q)\n",
    "        f.write(numpy_word)\n",
    "        f.write(NumPyPrinter().doprint(z))\n",
    "        f.write(\"\\n\")\n",
    "\n",
    "    for name, z in zip(names, Rys):\n",
    "        numpy_word = \"def ry_\" + name + \"(q):\\n    return \"\n",
    "        #f.write(numba_word_q)\n",
    "        f.write(numpy_word)\n",
    "        f.write(NumPyPrinter().doprint(z))\n",
    "        f.write(\"\\n\")\n",
    "\n",
    "    for name, z in zip(names, Rzs):\n",
    "        numpy_word = \"def rz_\" + name + \"(q):\\n    return \"\n",
    "        #f.write(numba_word_q)\n",
    "        f.write(numpy_word)\n",
    "        f.write(NumPyPrinter().doprint(z))\n",
    "        f.write(\"\\n\")\n",
    "\n",
    "\n",
    "with open(\"src_py_/Jos.py\", \"w\") as f:\n",
    "    f.write(common_w)\n",
    "    for name, z in zip(names, Jos):\n",
    "        numpy_word = \"def jo_\" + name + \"(q):\\n    return \"\n",
    "        #f.write(numba_word_q)\n",
    "        f.write(numpy_word)\n",
    "        f.write(NumPyPrinter().doprint(z))\n",
    "        f.write(\"\\n\")\n",
    "\n",
    "with open(\"src_py_/JRxs.py\", \"w\") as f:\n",
    "    f.write(common_w)\n",
    "    for name, z in zip(names, JRxs):\n",
    "        numpy_word = \"def jrx_\" + name + \"(q):\\n    return \"\n",
    "        #f.write(numba_word_q)\n",
    "        f.write(numpy_word)\n",
    "        f.write(NumPyPrinter().doprint(z))\n",
    "        f.write(\"\\n\")\n",
    "\n",
    "with open(\"src_py_/JRys.py\", \"w\") as f:\n",
    "    f.write(common_w)\n",
    "    for name, z in zip(names, JRys):\n",
    "        numpy_word = \"def jry_\" + name + \"(q):\\n    return \"\n",
    "        #f.write(numba_word_q)\n",
    "        f.write(numpy_word)\n",
    "        f.write(NumPyPrinter().doprint(z))\n",
    "        f.write(\"\\n\")\n",
    "\n",
    "with open(\"src_py_/JRzs.py\", \"w\") as f:\n",
    "    f.write(common_w)\n",
    "    for name, z in zip(names, JRzs):\n",
    "        numpy_word = \"def jrz_\" + name + \"(q):\\n    return \"\n",
    "        #f.write(numba_word_q)\n",
    "        f.write(numpy_word)\n",
    "        f.write(NumPyPrinter().doprint(z))\n",
    "        f.write(\"\\n\")\n",
    "\n",
    "\n",
    "with open(\"src_py_/Jo_dots.py\", \"w\") as f:\n",
    "    f.write(common_w)\n",
    "    for name, z in zip(names, Jos_dot):\n",
    "        numpy_word = \"def jo_\" + name + \"_dot(q, dq):\\n    return \"\n",
    "        #f.write(numba_word_q_dq)\n",
    "        f.write(numpy_word)\n",
    "        f.write(NumPyPrinter().doprint(z))\n",
    "        f.write(\"\\n\")\n",
    "\n",
    "with open(\"src_py_/JRx_dots.py\", \"w\") as f:\n",
    "    f.write(common_w)\n",
    "    for name, z in zip(names, JRxs_dot):\n",
    "        numpy_word = \"def jrx_\" + name + \"_dot(q, dq):\\n    return \"\n",
    "        #f.write(numba_word_q_dq)\n",
    "        f.write(numpy_word)\n",
    "        f.write(NumPyPrinter().doprint(z))\n",
    "        f.write(\"\\n\")\n",
    "\n",
    "with open(\"src_py_/JRy_dots.py\", \"w\") as f:\n",
    "    f.write(common_w)\n",
    "    for name, z in zip(names, JRys):\n",
    "        numpy_word = \"def jry_\" + name + \"_dot(q, dq):\\n    return \"\n",
    "        #f.write(numba_word_q_dq)\n",
    "        f.write(numpy_word)\n",
    "        f.write(NumPyPrinter().doprint(z))\n",
    "        f.write(\"\\n\")\n",
    "\n",
    "with open(\"src_py_/JRz_dots.py\", \"w\") as f:\n",
    "    f.write(common_w)\n",
    "    for name, z in zip(names, JRzs):\n",
    "        numpy_word = \"def jrz_\" + name + \"_dot(q, dq):\\n    return \"\n",
    "        #f.write(numba_word_q_dq)\n",
    "        f.write(numpy_word)\n",
    "        f.write(NumPyPrinter().doprint(z))\n",
    "        f.write(\"\\n\")\n",
    "\n",
    "\n",
    "with open(\"src_py_/dynamics.py\", \"w\") as f:\n",
    "    f.write(common_w)\n",
    "    numpy_word = \"def M(q):\\n    return \"\n",
    "    #f.write(numba_word_q)\n",
    "    f.write(numpy_word)\n",
    "    f.write(NumPyPrinter().doprint(M))\n",
    "    f.write(\"\\n\")\n",
    "    \n",
    "    numpy_word = \"def C(q, dq):\\n    return \"\n",
    "    #f.write(numba_word_q)\n",
    "    f.write(numpy_word)\n",
    "    f.write(NumPyPrinter().doprint(C))\n",
    "    f.write(\"\\n\")\n",
    "    \n",
    "    numpy_word = \"def G(q):\\n    return \"\n",
    "    #f.write(numba_word_q)\n",
    "    f.write(numpy_word)\n",
    "    f.write(NumPyPrinter().doprint(G))\n",
    "    f.write(\"\\n\")\n"
   ]
  },
  {
   "cell_type": "code",
   "execution_count": 27,
   "metadata": {},
   "outputs": [],
   "source": [
    "def translate_hoge(original, done):\n",
    "    with open(original, \"r\") as f, open(done, \"w\") as g:\n",
    "        file_data = f.readlines()\n",
    "        for line in file_data:\n",
    "            line = line.replace('numpy', 'np').replace('1/2', '0.5').replace('(0.5)', '0.5')\n",
    "            line = line.replace('np.cos', 'c').replace('np.sin', 's').replace('np.sqrt', 'sq')\n",
    "            #line = line.replace('(q)', '(q, L1, L3, L4, L5_1, L5_2, L7, L8)')\n",
    "            #line = line.replace('(q, dq)', '(q, dq, L1, L3, L4, L5_1, L5_2, L7, L8)')\n",
    "            # line = line.replace(']])', ']], dtype=np.float64)')\n",
    "            # line = line.replace('[0, 0, 0, 0, 0, 0, 0]', '[0.0, 0.0, 0.0, 0.0, 0.0, 0.0, 0.0]')\n",
    "            # line = line.replace('[0]', '[0.0]').replace(' 0]],', ' 0.0]],').replace('[1]', '[1.0]').replace('[[0,', '[[0.0,').replace('0.0, 0],', '0.0, 0.0],')\n",
    "            line = line.replace('import np as np', 'import numpy as np')\n",
    "            g.write(line)\n",
    "\n",
    "\n",
    "done_name = \"done\"\n",
    "\n",
    "translate_hoge(\"src_py_/htm.py\", done_name+\"/htm.py\")\n",
    "translate_hoge(\"src_py_/Jos.py\", done_name+\"/Jos.py\")\n",
    "translate_hoge(\"src_py_/JRxs.py\", done_name+\"/JRxs.py\")\n",
    "translate_hoge(\"src_py_/JRys.py\", done_name+\"/JRys.py\")\n",
    "translate_hoge(\"src_py_/JRzs.py\", done_name+\"/JRzs.py\")\n",
    "translate_hoge(\"src_py_/Jo_dots.py\", done_name+\"/Jo_dots.py\")\n",
    "translate_hoge(\"src_py_/JRx_dots.py\", done_name+\"/JRx_dots.py\")\n",
    "translate_hoge(\"src_py_/JRy_dots.py\", done_name+\"/JRy_dots.py\")\n",
    "translate_hoge(\"src_py_/JRz_dots.py\", done_name+\"/JRz_dots.py\")\n",
    "translate_hoge(\"src_py_/dynamics.py\", done_name+\"/dynamics.py\")"
   ]
  }
 ],
 "metadata": {
  "kernelspec": {
   "display_name": "Python 3.9.12 ('base')",
   "language": "python",
   "name": "python3"
  },
  "language_info": {
   "codemirror_mode": {
    "name": "ipython",
    "version": 3
   },
   "file_extension": ".py",
   "mimetype": "text/x-python",
   "name": "python",
   "nbconvert_exporter": "python",
   "pygments_lexer": "ipython3",
   "version": "3.9.12"
  },
  "orig_nbformat": 4,
  "vscode": {
   "interpreter": {
    "hash": "368756e83d2084993ac505becbe47825c8a72b0fc53c20a5043bb5b908d065dc"
   }
  }
 },
 "nbformat": 4,
 "nbformat_minor": 2
}
